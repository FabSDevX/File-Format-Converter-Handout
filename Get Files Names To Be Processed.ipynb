{
 "cells": [
  {
   "cell_type": "code",
   "execution_count": 16,
   "metadata": {},
   "outputs": [],
   "source": [
    "import glob\n",
    "import pandas as pd"
   ]
  },
  {
   "cell_type": "code",
   "execution_count": 11,
   "metadata": {},
   "outputs": [
    {
     "name": "stdout",
     "output_type": "stream",
     "text": [
      "Help on function glob in module glob:\n",
      "\n",
      "glob(\n",
      "    pathname,\n",
      "    *,\n",
      "    root_dir=None,\n",
      "    dir_fd=None,\n",
      "    recursive=False,\n",
      "    include_hidden=False\n",
      ")\n",
      "    Return a list of paths matching a pathname pattern.\n",
      "\n",
      "    The pattern may contain simple shell-style wildcards a la\n",
      "    fnmatch. Unlike fnmatch, filenames starting with a\n",
      "    dot are special cases that are not matched by '*' and '?'\n",
      "    patterns by default.\n",
      "\n",
      "    If `include_hidden` is true, the patterns '*', '?', '**'  will match hidden\n",
      "    directories.\n",
      "\n",
      "    If `recursive` is true, the pattern '**' will match any files and\n",
      "    zero or more directories and subdirectories.\n",
      "\n"
     ]
    }
   ],
   "source": [
    "help(glob.glob)"
   ]
  },
  {
   "cell_type": "code",
   "execution_count": 12,
   "metadata": {},
   "outputs": [
    {
     "data": {
      "text/plain": [
       "['data/retail_db\\\\',\n",
       " 'data/retail_db\\\\categories',\n",
       " 'data/retail_db\\\\categories\\\\part-00000',\n",
       " 'data/retail_db\\\\create_db.sql',\n",
       " 'data/retail_db\\\\create_db_tables_pg.sql',\n",
       " 'data/retail_db\\\\customers',\n",
       " 'data/retail_db\\\\customers\\\\part-00000',\n",
       " 'data/retail_db\\\\departments',\n",
       " 'data/retail_db\\\\departments\\\\part-00000',\n",
       " 'data/retail_db\\\\load_db_tables_pg.sql',\n",
       " 'data/retail_db\\\\orders',\n",
       " 'data/retail_db\\\\orders\\\\part-00000',\n",
       " 'data/retail_db\\\\orders\\\\part_00000',\n",
       " 'data/retail_db\\\\order_items',\n",
       " 'data/retail_db\\\\order_items\\\\part-00000',\n",
       " 'data/retail_db\\\\products',\n",
       " 'data/retail_db\\\\products\\\\part-00000',\n",
       " 'data/retail_db\\\\README.md',\n",
       " 'data/retail_db\\\\schemas.json']"
      ]
     },
     "execution_count": 12,
     "metadata": {},
     "output_type": "execute_result"
    }
   ],
   "source": [
    "glob.glob('data/retail_db/**', recursive=True)"
   ]
  },
  {
   "cell_type": "code",
   "execution_count": 13,
   "metadata": {},
   "outputs": [
    {
     "data": {
      "text/plain": [
       "['data/retail_db\\\\categories\\\\part-00000',\n",
       " 'data/retail_db\\\\customers\\\\part-00000',\n",
       " 'data/retail_db\\\\departments\\\\part-00000',\n",
       " 'data/retail_db\\\\orders\\\\part-00000',\n",
       " 'data/retail_db\\\\orders\\\\part_00000',\n",
       " 'data/retail_db\\\\order_items\\\\part-00000',\n",
       " 'data/retail_db\\\\products\\\\part-00000']"
      ]
     },
     "execution_count": 13,
     "metadata": {},
     "output_type": "execute_result"
    }
   ],
   "source": [
    "glob.glob('data/retail_db/*/**')"
   ]
  },
  {
   "cell_type": "code",
   "execution_count": 14,
   "metadata": {},
   "outputs": [],
   "source": [
    "src_file_name = glob.glob('data/retail_db/*/part-*')"
   ]
  },
  {
   "cell_type": "code",
   "execution_count": 15,
   "metadata": {},
   "outputs": [
    {
     "data": {
      "text/plain": [
       "['data/retail_db\\\\categories\\\\part-00000',\n",
       " 'data/retail_db\\\\customers\\\\part-00000',\n",
       " 'data/retail_db\\\\departments\\\\part-00000',\n",
       " 'data/retail_db\\\\orders\\\\part-00000',\n",
       " 'data/retail_db\\\\order_items\\\\part-00000',\n",
       " 'data/retail_db\\\\products\\\\part-00000']"
      ]
     },
     "execution_count": 15,
     "metadata": {},
     "output_type": "execute_result"
    }
   ],
   "source": [
    "src_file_name"
   ]
  },
  {
   "cell_type": "code",
   "execution_count": 19,
   "metadata": {},
   "outputs": [
    {
     "name": "stdout",
     "output_type": "stream",
     "text": [
      "Shape of data/retail_db\\categories\\part-00000 is (58, 3)\n",
      "Shape of data/retail_db\\customers\\part-00000 is (12435, 9)\n",
      "Shape of data/retail_db\\departments\\part-00000 is (6, 2)\n",
      "Shape of data/retail_db\\orders\\part-00000 is (68883, 4)\n",
      "Shape of data/retail_db\\order_items\\part-00000 is (172198, 6)\n",
      "Shape of data/retail_db\\products\\part-00000 is (1345, 6)\n"
     ]
    }
   ],
   "source": [
    "for file_name in src_file_name:\n",
    "    df = pd.read_csv(file_name, header=None)\n",
    "    print(f'Shape of {file_name} is {df.shape}')"
   ]
  },
  {
   "cell_type": "code",
   "execution_count": null,
   "metadata": {},
   "outputs": [],
   "source": []
  }
 ],
 "metadata": {
  "kernelspec": {
   "display_name": "pr-1",
   "language": "python",
   "name": "python3"
  },
  "language_info": {
   "codemirror_mode": {
    "name": "ipython",
    "version": 3
   },
   "file_extension": ".py",
   "mimetype": "text/x-python",
   "name": "python",
   "nbconvert_exporter": "python",
   "pygments_lexer": "ipython3",
   "version": "3.13.1"
  }
 },
 "nbformat": 4,
 "nbformat_minor": 2
}
